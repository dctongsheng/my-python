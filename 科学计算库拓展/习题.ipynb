{
 "cells": [
  {
   "cell_type": "code",
   "execution_count": 51,
   "metadata": {},
   "outputs": [
    {
     "data": {
      "text/plain": [
       "'\\n'"
      ]
     },
     "execution_count": 51,
     "metadata": {},
     "output_type": "execute_result"
    }
   ],
   "source": [
    "# 导入ca_list_copy.csv文件到DataFrame中，实现以下操作：\n",
    "# 对异常数据（数值为0）进行值替换，替换为当前列的平均值；\n",
    "# 对zwyx列的数据进行平均值统计，其他列做计数统计（提示使用value_counts()）；\n",
    "# 得到zwmc字段的唯一值列表；\n",
    "# 通过group函数，实现对于dd字段的分组，并按照城市计算每个城市的最大薪资，使用折线图，显示Top10城市。\n",
    "\n",
    "\n",
    "'''\n",
    "值计数：df.values_counts()\n",
    "行重新命名：df.columns=[\" \"]\n",
    "把两个df合并：pd.concat([df1,df2])\n",
    "'''\n"
   ]
  },
  {
   "cell_type": "code",
   "execution_count": 25,
   "metadata": {
    "collapsed": true
   },
   "outputs": [],
   "source": [
    "import numpy as np\n",
    "import pandas as pd\n",
    "from pandas import Series,DataFrame\n",
    "import matplotlib.pyplot as plt\n",
    "import matplotlib as mpl\n",
    "mpl.rcParams['font.sans-serif'] = ['SimHei']\n",
    "mpl.rcParams['axes.unicode_minus'] = False"
   ]
  },
  {
   "cell_type": "code",
   "execution_count": 40,
   "metadata": {},
   "outputs": [
    {
     "data": {
      "text/plain": [
       "8152.994976359338"
      ]
     },
     "execution_count": 40,
     "metadata": {},
     "output_type": "execute_result"
    }
   ],
   "source": [
    "df = pd.read_csv(\"ca_list_copy.csv\")\n",
    "averge = df[\"zwyx\"].mean()\n",
    "averge"
   ]
  },
  {
   "cell_type": "code",
   "execution_count": 50,
   "metadata": {},
   "outputs": [
    {
     "data": {
      "text/html": [
       "<div>\n",
       "<style>\n",
       "    .dataframe thead tr:only-child th {\n",
       "        text-align: right;\n",
       "    }\n",
       "\n",
       "    .dataframe thead th {\n",
       "        text-align: left;\n",
       "    }\n",
       "\n",
       "    .dataframe tbody tr th {\n",
       "        vertical-align: top;\n",
       "    }\n",
       "</style>\n",
       "<table border=\"1\" class=\"dataframe\">\n",
       "  <thead>\n",
       "    <tr style=\"text-align: right;\">\n",
       "      <th></th>\n",
       "      <th>values</th>\n",
       "    </tr>\n",
       "  </thead>\n",
       "  <tbody>\n",
       "    <tr>\n",
       "      <th>数据分析师</th>\n",
       "      <td>216</td>\n",
       "    </tr>\n",
       "    <tr>\n",
       "      <th>高薪加五险 诚聘金融数据分析师/分析助理/操盘手/交易员</th>\n",
       "      <td>24</td>\n",
       "    </tr>\n",
       "    <tr>\n",
       "      <th>大数据分析师</th>\n",
       "      <td>23</td>\n",
       "    </tr>\n",
       "    <tr>\n",
       "      <th>SEM医疗竞价专员</th>\n",
       "      <td>19</td>\n",
       "    </tr>\n",
       "    <tr>\n",
       "      <th>7K大数据开发与维护</th>\n",
       "      <td>19</td>\n",
       "    </tr>\n",
       "    <tr>\n",
       "      <th>呼叫中心数据分析师</th>\n",
       "      <td>18</td>\n",
       "    </tr>\n",
       "    <tr>\n",
       "      <th>数据分析助理、五险一金+提成+两人间住宿</th>\n",
       "      <td>15</td>\n",
       "    </tr>\n",
       "    <tr>\n",
       "      <th>成功人总把复杂的事情简单化诚聘数据分析师月薪1W+</th>\n",
       "      <td>15</td>\n",
       "    </tr>\n",
       "    <tr>\n",
       "      <th>数据分析师（应届生亦可）160810</th>\n",
       "      <td>14</td>\n",
       "    </tr>\n",
       "    <tr>\n",
       "      <th>金融数据分析师</th>\n",
       "      <td>14</td>\n",
       "    </tr>\n",
       "    <tr>\n",
       "      <th>高级数据分析师</th>\n",
       "      <td>13</td>\n",
       "    </tr>\n",
       "    <tr>\n",
       "      <th>数据分析师 应届生亦可160828</th>\n",
       "      <td>13</td>\n",
       "    </tr>\n",
       "    <tr>\n",
       "      <th>数据分析员</th>\n",
       "      <td>12</td>\n",
       "    </tr>\n",
       "    <tr>\n",
       "      <th>数据分析师 应届生亦可160823</th>\n",
       "      <td>12</td>\n",
       "    </tr>\n",
       "    <tr>\n",
       "      <th>财务工作急招（2017年某银行江苏省分行社会招聘启事）</th>\n",
       "      <td>11</td>\n",
       "    </tr>\n",
       "    <tr>\n",
       "      <th>世上无难事.只怕有心人、招揽奇才-万向联合聘金融数据分析师</th>\n",
       "      <td>11</td>\n",
       "    </tr>\n",
       "    <tr>\n",
       "      <th>- 不要着急，有些人就是大器晚成- 金融数据分析师</th>\n",
       "      <td>11</td>\n",
       "    </tr>\n",
       "    <tr>\n",
       "      <th>数据分析专员</th>\n",
       "      <td>10</td>\n",
       "    </tr>\n",
       "    <tr>\n",
       "      <th>金融储备干部+金融助理+数据分析师 应届生/无经验一对一培训</th>\n",
       "      <td>10</td>\n",
       "    </tr>\n",
       "    <tr>\n",
       "      <th>数据分析主管</th>\n",
       "      <td>10</td>\n",
       "    </tr>\n",
       "    <tr>\n",
       "      <th>数据分析师 包食宿160824</th>\n",
       "      <td>9</td>\n",
       "    </tr>\n",
       "    <tr>\n",
       "      <th>数据分析师 应届生亦可161008</th>\n",
       "      <td>9</td>\n",
       "    </tr>\n",
       "    <tr>\n",
       "      <th>数据分析</th>\n",
       "      <td>9</td>\n",
       "    </tr>\n",
       "    <tr>\n",
       "      <th>月薪1W五险招金融数据分析师师，外汇专员低门槛+高薪资</th>\n",
       "      <td>8</td>\n",
       "    </tr>\n",
       "    <tr>\n",
       "      <th>钱进道路上万向为你保驾护航，金融数据分析师及助理+双休</th>\n",
       "      <td>8</td>\n",
       "    </tr>\n",
       "    <tr>\n",
       "      <th>中国金融行业十大诚信品牌企业数据分析师、储备经理人6K-8K</th>\n",
       "      <td>8</td>\n",
       "    </tr>\n",
       "    <tr>\n",
       "      <th>❤动不如行动→外汇交易员 ←数据分析师 +0基础培训+双休五险</th>\n",
       "      <td>8</td>\n",
       "    </tr>\n",
       "    <tr>\n",
       "      <th>数据分析师  包食宿161201</th>\n",
       "      <td>8</td>\n",
       "    </tr>\n",
       "    <tr>\n",
       "      <th>一次正确的抉择,胜过多次努力金融数据分析师，外汇交易员</th>\n",
       "      <td>8</td>\n",
       "    </tr>\n",
       "    <tr>\n",
       "      <th>聘万向联合优秀数据分析师/资金管理师 双休+福利齐全</th>\n",
       "      <td>8</td>\n",
       "    </tr>\n",
       "    <tr>\n",
       "      <th>...</th>\n",
       "      <td>...</td>\n",
       "    </tr>\n",
       "    <tr>\n",
       "      <th>枣庄</th>\n",
       "      <td>1</td>\n",
       "    </tr>\n",
       "    <tr>\n",
       "      <th>盐城</th>\n",
       "      <td>1</td>\n",
       "    </tr>\n",
       "    <tr>\n",
       "      <th>股份制企业</th>\n",
       "      <td>2025</td>\n",
       "    </tr>\n",
       "    <tr>\n",
       "      <th>民营</th>\n",
       "      <td>603</td>\n",
       "    </tr>\n",
       "    <tr>\n",
       "      <th>合资</th>\n",
       "      <td>442</td>\n",
       "    </tr>\n",
       "    <tr>\n",
       "      <th>上市公司</th>\n",
       "      <td>152</td>\n",
       "    </tr>\n",
       "    <tr>\n",
       "      <th>国企</th>\n",
       "      <td>59</td>\n",
       "    </tr>\n",
       "    <tr>\n",
       "      <th>外商独资</th>\n",
       "      <td>49</td>\n",
       "    </tr>\n",
       "    <tr>\n",
       "      <th>事业单位</th>\n",
       "      <td>29</td>\n",
       "    </tr>\n",
       "    <tr>\n",
       "      <th>其它</th>\n",
       "      <td>25</td>\n",
       "    </tr>\n",
       "    <tr>\n",
       "      <th>100-499人</th>\n",
       "      <td>1530</td>\n",
       "    </tr>\n",
       "    <tr>\n",
       "      <th>500-999人</th>\n",
       "      <td>1217</td>\n",
       "    </tr>\n",
       "    <tr>\n",
       "      <th>20-99人</th>\n",
       "      <td>236</td>\n",
       "    </tr>\n",
       "    <tr>\n",
       "      <th>1000-9999人</th>\n",
       "      <td>229</td>\n",
       "    </tr>\n",
       "    <tr>\n",
       "      <th>10000人以上</th>\n",
       "      <td>105</td>\n",
       "    </tr>\n",
       "    <tr>\n",
       "      <th>20人以下</th>\n",
       "      <td>56</td>\n",
       "    </tr>\n",
       "    <tr>\n",
       "      <th>其它</th>\n",
       "      <td>11</td>\n",
       "    </tr>\n",
       "    <tr>\n",
       "      <th>大专</th>\n",
       "      <td>1897</td>\n",
       "    </tr>\n",
       "    <tr>\n",
       "      <th>本科</th>\n",
       "      <td>767</td>\n",
       "    </tr>\n",
       "    <tr>\n",
       "      <th>不限</th>\n",
       "      <td>614</td>\n",
       "    </tr>\n",
       "    <tr>\n",
       "      <th>硕士</th>\n",
       "      <td>59</td>\n",
       "    </tr>\n",
       "    <tr>\n",
       "      <th>中专</th>\n",
       "      <td>32</td>\n",
       "    </tr>\n",
       "    <tr>\n",
       "      <th>中技</th>\n",
       "      <td>10</td>\n",
       "    </tr>\n",
       "    <tr>\n",
       "      <th>高中</th>\n",
       "      <td>5</td>\n",
       "    </tr>\n",
       "    <tr>\n",
       "      <th>无经验</th>\n",
       "      <td>2695</td>\n",
       "    </tr>\n",
       "    <tr>\n",
       "      <th>1-3年</th>\n",
       "      <td>384</td>\n",
       "    </tr>\n",
       "    <tr>\n",
       "      <th>3-5年</th>\n",
       "      <td>149</td>\n",
       "    </tr>\n",
       "    <tr>\n",
       "      <th>1年以下</th>\n",
       "      <td>124</td>\n",
       "    </tr>\n",
       "    <tr>\n",
       "      <th>5-10年</th>\n",
       "      <td>22</td>\n",
       "    </tr>\n",
       "    <tr>\n",
       "      <th>10年以上</th>\n",
       "      <td>10</td>\n",
       "    </tr>\n",
       "  </tbody>\n",
       "</table>\n",
       "<p>2528 rows × 1 columns</p>\n",
       "</div>"
      ],
      "text/plain": [
       "                                 values\n",
       "数据分析师                               216\n",
       "高薪加五险 诚聘金融数据分析师/分析助理/操盘手/交易员         24\n",
       "大数据分析师                               23\n",
       "SEM医疗竞价专员                            19\n",
       "7K大数据开发与维护                           19\n",
       "呼叫中心数据分析师                            18\n",
       "数据分析助理、五险一金+提成+两人间住宿                 15\n",
       "成功人总把复杂的事情简单化诚聘数据分析师月薪1W+            15\n",
       "数据分析师（应届生亦可）160810                   14\n",
       "金融数据分析师                              14\n",
       "高级数据分析师                              13\n",
       "数据分析师 应届生亦可160828                    13\n",
       "数据分析员                                12\n",
       "数据分析师 应届生亦可160823                    12\n",
       "财务工作急招（2017年某银行江苏省分行社会招聘启事）          11\n",
       "世上无难事.只怕有心人、招揽奇才-万向联合聘金融数据分析师        11\n",
       "- 不要着急，有些人就是大器晚成- 金融数据分析师            11\n",
       "数据分析专员                               10\n",
       "金融储备干部+金融助理+数据分析师 应届生/无经验一对一培训       10\n",
       "数据分析主管                               10\n",
       "数据分析师 包食宿160824                       9\n",
       "数据分析师 应届生亦可161008                     9\n",
       "数据分析                                  9\n",
       "月薪1W五险招金融数据分析师师，外汇专员低门槛+高薪资           8\n",
       "钱进道路上万向为你保驾护航，金融数据分析师及助理+双休           8\n",
       "中国金融行业十大诚信品牌企业数据分析师、储备经理人6K-8K        8\n",
       "❤动不如行动→外汇交易员 ←数据分析师 +0基础培训+双休五险       8\n",
       "数据分析师  包食宿161201                      8\n",
       "一次正确的抉择,胜过多次努力金融数据分析师，外汇交易员           8\n",
       "聘万向联合优秀数据分析师/资金管理师 双休+福利齐全            8\n",
       "...                                 ...\n",
       "枣庄                                    1\n",
       "盐城                                    1\n",
       "股份制企业                              2025\n",
       "民营                                  603\n",
       "合资                                  442\n",
       "上市公司                                152\n",
       "国企                                   59\n",
       "外商独资                                 49\n",
       "事业单位                                 29\n",
       "其它                                   25\n",
       "100-499人                           1530\n",
       "500-999人                           1217\n",
       "20-99人                              236\n",
       "1000-9999人                          229\n",
       "10000人以上                            105\n",
       "20人以下                                56\n",
       "其它                                   11\n",
       "大专                                 1897\n",
       "本科                                  767\n",
       "不限                                  614\n",
       "硕士                                   59\n",
       "中专                                   32\n",
       "中技                                   10\n",
       "高中                                    5\n",
       "无经验                                2695\n",
       "1-3年                                384\n",
       "3-5年                                149\n",
       "1年以下                                124\n",
       "5-10年                                22\n",
       "10年以上                                10\n",
       "\n",
       "[2528 rows x 1 columns]"
      ]
     },
     "execution_count": 50,
     "metadata": {},
     "output_type": "execute_result"
    }
   ],
   "source": [
    "new_ave=df.replace(0,int(averge))\n",
    "list1=list(new_ave.columns)\n",
    "list1.remove(\"Id\")\n",
    "list1.remove(\"zwyx\")\n",
    "list1\n",
    "new_d=DataFrame([])\n",
    "for i in list1:\n",
    "    d=new_ave[i].value_counts()\n",
    "    n_d=DataFrame(d)\n",
    "    n_d.columns=['values']\n",
    "    new_d = pd.concat([new_d,n_d])\n",
    "    \n",
    "    \n",
    "new_d\n",
    "# new_ave.mean()"
   ]
  },
  {
   "cell_type": "code",
   "execution_count": 6,
   "metadata": {},
   "outputs": [
    {
     "data": {
      "text/plain": [
       "array(['数据分析师', '中/高级数据分析师', '6k聘金融数据分析师/助理/交易分析师（五险双休', ...,\n",
       "       '资金管理人/数据分析师/双休五险/朝九晚五', '大数据分析，分析师助理，薪资4500+，晋升空间大，双休',\n",
       "       '数据统计/数据分析师 双休不累有保障'], dtype=object)"
      ]
     },
     "execution_count": 6,
     "metadata": {},
     "output_type": "execute_result"
    }
   ],
   "source": [
    "df[\"Id\"].value_counts()\n",
    "df[\"zwmc\"].unique()"
   ]
  },
  {
   "cell_type": "code",
   "execution_count": 7,
   "metadata": {
    "collapsed": true
   },
   "outputs": [],
   "source": [
    "# s= df.groupby(\"dd\")\n",
    "# for i in range s:\n",
    "#     print(i)\n"
   ]
  },
  {
   "cell_type": "code",
   "execution_count": 8,
   "metadata": {},
   "outputs": [
    {
     "data": {
      "text/plain": [
       "dd\n",
       "上海    40000.5\n",
       "北京    40000.5\n",
       "天津    25000.5\n",
       "济南    25000.5\n",
       "深圳    25000.5\n",
       "广州    25000.5\n",
       "南京    25000.5\n",
       "杭州    20000.0\n",
       "长沙    18000.0\n",
       "无锡    17500.5\n",
       "Name: zwyx, dtype: float64"
      ]
     },
     "execution_count": 8,
     "metadata": {},
     "output_type": "execute_result"
    }
   ],
   "source": [
    "# del f(x):\n",
    "#     x.rank()\n",
    "s=df.groupby(\"dd\").max()\n",
    "s=s.sort_values(by=[\"zwyx\"],ascending=False)\n",
    "s=s['zwyx'][0:10]\n",
    "s"
   ]
  },
  {
   "cell_type": "code",
   "execution_count": 9,
   "metadata": {},
   "outputs": [
    {
     "data": {
      "image/png": "[encoded data removed]",
      "text/plain": [
       "<matplotlib.figure.Figure at 0x21cb12f22e8>"
      ]
     },
     "metadata": {},
     "output_type": "display_data"
    }
   ],
   "source": [
    "s.plot(style=\"ro-\")\n",
    "plt.show()"
   ]
  },
  {
   "cell_type": "code",
   "execution_count": 10,
   "metadata": {
    "collapsed": true
   },
   "outputs": [],
   "source": [
    "# 使用的数据集是美国人口普查的数据，\n",
    "# 以每个州人口最多的 3 个县的人口总和为这个州人口的衡量标准，哪 3 个州人口最多？\n",
    "# 在 2010 年至 2012 年间人口平均量是怎么样的\n",
    "# 在 2010 年至 2015 年间人口变化幅度最大的是哪个县？census.csv\n"
   ]
  },
  {
   "cell_type": "code",
   "execution_count": 11,
   "metadata": {
    "collapsed": true
   },
   "outputs": [],
   "source": [
    "df1 = pd.read_csv(\"census.csv\")"
   ]
  },
  {
   "cell_type": "code",
   "execution_count": 19,
   "metadata": {
    "collapsed": true,
    "scrolled": true
   },
   "outputs": [],
   "source": [
    "dict= {'年龄':[15,14,16,15,14,13,16,14,15],'性别':[1,0,1,1,0,0,1,1,0]}"
   ]
  },
  {
   "cell_type": "code",
   "execution_count": 20,
   "metadata": {},
   "outputs": [
    {
     "data": {
      "text/html": [
       "<div>\n",
       "<style>\n",
       "    .dataframe thead tr:only-child th {\n",
       "        text-align: right;\n",
       "    }\n",
       "\n",
       "    .dataframe thead th {\n",
       "        text-align: left;\n",
       "    }\n",
       "\n",
       "    .dataframe tbody tr th {\n",
       "        vertical-align: top;\n",
       "    }\n",
       "</style>\n",
       "<table border=\"1\" class=\"dataframe\">\n",
       "  <thead>\n",
       "    <tr style=\"text-align: right;\">\n",
       "      <th></th>\n",
       "      <th>年龄</th>\n",
       "      <th>性别</th>\n",
       "    </tr>\n",
       "  </thead>\n",
       "  <tbody>\n",
       "    <tr>\n",
       "      <th>1</th>\n",
       "      <td>15</td>\n",
       "      <td>1</td>\n",
       "    </tr>\n",
       "    <tr>\n",
       "      <th>2</th>\n",
       "      <td>14</td>\n",
       "      <td>0</td>\n",
       "    </tr>\n",
       "    <tr>\n",
       "      <th>3</th>\n",
       "      <td>16</td>\n",
       "      <td>1</td>\n",
       "    </tr>\n",
       "    <tr>\n",
       "      <th>4</th>\n",
       "      <td>15</td>\n",
       "      <td>1</td>\n",
       "    </tr>\n",
       "    <tr>\n",
       "      <th>5</th>\n",
       "      <td>14</td>\n",
       "      <td>0</td>\n",
       "    </tr>\n",
       "    <tr>\n",
       "      <th>6</th>\n",
       "      <td>13</td>\n",
       "      <td>0</td>\n",
       "    </tr>\n",
       "    <tr>\n",
       "      <th>7</th>\n",
       "      <td>16</td>\n",
       "      <td>1</td>\n",
       "    </tr>\n",
       "    <tr>\n",
       "      <th>8</th>\n",
       "      <td>14</td>\n",
       "      <td>1</td>\n",
       "    </tr>\n",
       "    <tr>\n",
       "      <th>9</th>\n",
       "      <td>15</td>\n",
       "      <td>0</td>\n",
       "    </tr>\n",
       "  </tbody>\n",
       "</table>\n",
       "</div>"
      ],
      "text/plain": [
       "   年龄  性别\n",
       "1  15   1\n",
       "2  14   0\n",
       "3  16   1\n",
       "4  15   1\n",
       "5  14   0\n",
       "6  13   0\n",
       "7  16   1\n",
       "8  14   1\n",
       "9  15   0"
      ]
     },
     "execution_count": 20,
     "metadata": {},
     "output_type": "execute_result"
    }
   ],
   "source": [
    "dt=DataFrame(dict,index=[1,2,3,4,5,6,7,8,9])\n",
    "dt"
   ]
  },
  {
   "cell_type": "code",
   "execution_count": 21,
   "metadata": {},
   "outputs": [
    {
     "data": {
      "text/plain": [
       "9"
      ]
     },
     "execution_count": 21,
     "metadata": {},
     "output_type": "execute_result"
    }
   ],
   "source": [
    "dt['性别'].count()"
   ]
  },
  {
   "cell_type": "code",
   "execution_count": 24,
   "metadata": {},
   "outputs": [
    {
     "data": {
      "text/plain": [
       "1    5\n",
       "0    4\n",
       "Name: 性别, dtype: int64"
      ]
     },
     "execution_count": 24,
     "metadata": {},
     "output_type": "execute_result"
    }
   ],
   "source": [
    "dt['性别'].value_counts()"
   ]
  },
  {
   "cell_type": "code",
   "execution_count": null,
   "metadata": {
    "collapsed": true
   },
   "outputs": [],
   "source": []
  }
 ],
 "metadata": {
  "kernelspec": {
   "display_name": "Python 3",
   "language": "python",
   "name": "python3"
  },
  "language_info": {
   "codemirror_mode": {
    "name": "ipython",
    "version": 3
   },
   "file_extension": ".py",
   "mimetype": "text/x-python",
   "name": "python",
   "nbconvert_exporter": "python",
   "pygments_lexer": "ipython3",
   "version": "3.6.3"
  }
 },
 "nbformat": 4,
 "nbformat_minor": 2
}
